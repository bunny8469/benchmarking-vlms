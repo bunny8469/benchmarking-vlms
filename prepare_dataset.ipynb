{
 "cells": [
  {
   "cell_type": "code",
   "execution_count": 1,
   "metadata": {},
   "outputs": [],
   "source": [
    "SEED = 19\n",
    "N = 211"
   ]
  },
  {
   "cell_type": "code",
   "execution_count": 2,
   "metadata": {},
   "outputs": [
    {
     "name": "stdout",
     "output_type": "stream",
     "text": [
      "Saved matched image IDs to 'matched_image_ids.json'\n"
     ]
    }
   ],
   "source": [
    "import json\n",
    "import ijson\n",
    "\n",
    "# Load the list of target relations\n",
    "with open('./assets/final_cleaned_relations.json', 'r') as f:\n",
    "    target_relations = set(json.load(f))  # convert to set for faster lookup\n",
    "\n",
    "matched_image_ids = set()\n",
    "\n",
    "# Stream through the Visual Genome relationships using ijson\n",
    "with open('./VisualGenome/relationships.json', 'r') as f:\n",
    "    objects = ijson.items(f, 'item')  # 'item' iterates over the top-level array\n",
    "    for image_data in objects:\n",
    "        image_id = image_data['image_id']\n",
    "        for rel in image_data['relationships']:\n",
    "            pred = rel['predicate'].lower().strip()\n",
    "            if pred in target_relations:\n",
    "                matched_image_ids.add(image_id)\n",
    "                break  # Found a match; skip to next image\n",
    "\n",
    "# Save the list of matched image IDs\n",
    "with open('./assets/matched_image_ids.json', 'w') as f:\n",
    "    json.dump(sorted(matched_image_ids), f, indent=2)\n",
    "\n",
    "print(\"Saved matched image IDs to 'matched_image_ids.json'\")"
   ]
  },
  {
   "cell_type": "code",
   "execution_count": 3,
   "metadata": {},
   "outputs": [
    {
     "name": "stdout",
     "output_type": "stream",
     "text": [
      "Created subset with 211 items at: assets/matched_image_ids_subset_19.json\n"
     ]
    },
    {
     "data": {
      "text/plain": [
       "PosixPath('assets/matched_image_ids_subset_19.json')"
      ]
     },
     "execution_count": 3,
     "metadata": {},
     "output_type": "execute_result"
    }
   ],
   "source": [
    "import json\n",
    "import random\n",
    "import sys\n",
    "from pathlib import Path\n",
    "\n",
    "def create_random_subset(input_file, output_dir, subset_size=5, seed=SEED):\n",
    "    # Read input JSON file\n",
    "    with open(input_file, 'r') as f:\n",
    "        data = json.load(f)\n",
    "    \n",
    "    if not isinstance(data, list):\n",
    "        raise ValueError(\"Input JSON must contain an array/top-level list\")\n",
    "    \n",
    "    # Set random seed and select subset\n",
    "    random.seed(seed)\n",
    "    subset = random.sample(data, min(subset_size, len(data)))\n",
    "    \n",
    "    # Create output filename\n",
    "    input_stem = Path(input_file).stem\n",
    "    output_file = Path(output_dir) / f\"{input_stem}_subset_{seed}.json\"\n",
    "    \n",
    "    # Write subset to new JSON file\n",
    "    with open(output_file, 'w') as f:\n",
    "        json.dump(subset, f, indent=2)\n",
    "    \n",
    "    print(f\"Created subset with {len(subset)} items at: {output_file}\")\n",
    "    return output_file\n",
    "\n",
    "input_file = \"./assets/matched_image_ids.json\"\n",
    "output_dir = \"./assets/\"\n",
    "subset_size = N\n",
    "\n",
    "create_random_subset(input_file, output_dir, subset_size, SEED)"
   ]
  },
  {
   "cell_type": "code",
   "execution_count": 4,
   "metadata": {},
   "outputs": [
    {
     "name": "stdout",
     "output_type": "stream",
     "text": [
      "Conversion complete. Output saved to ./assets/final_subset_19.json\n"
     ]
    },
    {
     "ename": "",
     "evalue": "",
     "output_type": "error",
     "traceback": [
      "\u001b[1;31mThe Kernel crashed while executing code in the the current cell or a previous cell. Please review the code in the cell(s) to identify a possible cause of the failure. Click <a href='https://aka.ms/vscodeJupyterKernelCrash'>here</a> for more info. View Jupyter <a href='command:jupyter.viewOutput'>log</a> for further details."
     ]
    }
   ],
   "source": [
    "import json\n",
    "\n",
    "def convert_json(input_data, relations):\n",
    "    # Create the output structure\n",
    "    output = {\n",
    "        \"url\": input_data[\"image_id\"],\n",
    "        \"objects\": [],\n",
    "        \"attributes\": [],\n",
    "        \"relationships\": []\n",
    "    }\n",
    "    \n",
    "    # Convert relations to set for faster lookup\n",
    "    base_relations = set(relations)\n",
    "    \n",
    "    # Step 1: Build a mapping from original object_id to new index\n",
    "    object_id_to_index = {}\n",
    "    \n",
    "    # Process objects and populate the mapping\n",
    "    for obj in input_data[\"objects\"]:\n",
    "        # Store the current index (before appending)\n",
    "        current_index = len(output[\"objects\"])\n",
    "        \n",
    "        # Map the original object_id to this index\n",
    "        object_id_to_index[obj[\"object_id\"]] = current_index\n",
    "        \n",
    "        # Add object names\n",
    "        for name in obj[\"names\"]:\n",
    "            output[\"objects\"].append({\"name\": name})\n",
    "        \n",
    "        # Add attributes\n",
    "        if \"attributes\" in obj:\n",
    "            for attr in obj[\"attributes\"]:\n",
    "                output[\"attributes\"].append({\n",
    "                    \"attribute\": attr,\n",
    "                    \"object\": current_index  # Use the new index\n",
    "                })\n",
    "    \n",
    "    # Process relationships with mapped indices and cleaned predicates\n",
    "    for rel in input_data[\"relationships\"]:\n",
    "        # Get the mapped indices for subject and object\n",
    "        subject_index = object_id_to_index.get(rel[\"subject_id\"], -1)\n",
    "        object_index = object_id_to_index.get(rel[\"object_id\"], -1)\n",
    "        \n",
    "        if subject_index != -1 and object_index != -1:\n",
    "            # Clean the predicate to match base relations\n",
    "            predicate = rel[\"predicate\"].lower()\n",
    "            base_predicate = None\n",
    "            \n",
    "            # Check if any base relation is contained in the predicate\n",
    "            for relation in base_relations:\n",
    "                if relation in predicate:\n",
    "                    base_predicate = relation\n",
    "                    break\n",
    "            \n",
    "            # Only add if we found a matching base relation\n",
    "            if base_predicate:\n",
    "                output[\"relationships\"].append({\n",
    "                    \"predicate\": base_predicate,\n",
    "                    \"object\": object_index,\n",
    "                    \"subject\": subject_index\n",
    "                })\n",
    "            # else:\n",
    "            #     print(f\"Warning: No base relation found for predicate '{predicate}'\")\n",
    "        else:\n",
    "            print(f\"Warning: Missing object/subject for relationship {rel['relationship_id']}\")\n",
    "    \n",
    "    return output\n",
    "\n",
    "# Read input scene graph\n",
    "with open('./VisualGenome/scene_graphs.json', 'r') as f:\n",
    "    input_data = json.load(f)\n",
    "\n",
    "with open('./assets/final_cleaned_relations.json', 'r') as f:\n",
    "    relations = json.load(f)\n",
    "\n",
    "with open(f'./assets/matched_image_ids_subset_{SEED}.json', 'r') as f:\n",
    "    image_ids = json.load(f)\n",
    "\n",
    "image_ids_set = set(image_ids)\n",
    "\n",
    "converted_data = []\n",
    "for graph in input_data:\n",
    "    if graph and graph.get('image_id') in image_ids_set:\n",
    "        # extra layer to filter prepositions from the relations\n",
    "        converted_data.append(convert_json(graph, relations))\n",
    "\n",
    "# Save to JSON file\n",
    "with open(f'./assets/final_subset_{SEED}.json', 'w') as f:\n",
    "    json.dump(converted_data, f, indent=2)\n",
    "\n",
    "print(f\"Conversion complete. Output saved to ./assets/final_subset_{SEED}.json\")"
   ]
  },
  {
   "cell_type": "code",
   "execution_count": 5,
   "metadata": {},
   "outputs": [
    {
     "name": "stdout",
     "output_type": "stream",
     "text": [
      "Processed 1200 images into simplified format\n"
     ]
    }
   ],
   "source": [
    "import json\n",
    "\n",
    "def simplify_scene_graphs(scene_graphs):\n",
    "    simplified_graphs = []\n",
    "    \n",
    "    for graph in scene_graphs:\n",
    "        simplified_relationships = []\n",
    "        \n",
    "        for relation in graph.get(\"relationships\", []):\n",
    "            try:\n",
    "                subject_obj = graph[\"objects\"][relation[\"subject\"]]\n",
    "                object_obj = graph[\"objects\"][relation[\"object\"]]\n",
    "            except IndexError:\n",
    "                continue\n",
    "            \n",
    "            simplified_relationships.append({\n",
    "                \"subject\": subject_obj[\"name\"],\n",
    "                \"object\": object_obj[\"name\"],\n",
    "                \"relationship\": relation[\"predicate\"]\n",
    "            })\n",
    "        \n",
    "        if simplified_relationships:\n",
    "            simplified_graphs.append({\n",
    "                \"image_id\": graph[\"url\"],\n",
    "                \"relationships\": simplified_relationships\n",
    "            })\n",
    "\n",
    "    with open(f'./assets/simplified_scene_graphs_{SEED}.json', \"w\") as f:\n",
    "        json.dump(simplified_graphs, f, indent=2)\n",
    "        \n",
    "    print(f\"Processed {len(simplified_graphs)} images into simplified format\")\n",
    "\n",
    "with open(f'./assets/final_subset_{SEED}.json', \"r\") as f:\n",
    "    data = json.load(f)\n",
    "\n",
    "# simplify_scene_graphs(data)"
   ]
  }
 ],
 "metadata": {
  "kernelspec": {
   "display_name": "myenv",
   "language": "python",
   "name": "python3"
  },
  "language_info": {
   "codemirror_mode": {
    "name": "ipython",
    "version": 3
   },
   "file_extension": ".py",
   "mimetype": "text/x-python",
   "name": "python",
   "nbconvert_exporter": "python",
   "pygments_lexer": "ipython3",
   "version": "3.12.9"
  }
 },
 "nbformat": 4,
 "nbformat_minor": 2
}
