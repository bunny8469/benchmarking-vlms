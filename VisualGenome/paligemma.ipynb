{
 "cells": [
  {
   "cell_type": "code",
   "execution_count": null,
   "metadata": {
    "vscode": {
     "languageId": "plaintext"
    }
   },
   "outputs": [],
   "source": [
    "from transformers import PaliGemmaProcessor, PaliGemmaForConditionalGeneration\n",
    "from PIL import Image\n",
    "import requests\n",
    "import torch\n",
    "import traceback\n",
    "\n",
    "try:\n",
    "    # Print device information\n",
    "    device = torch.device('cuda' if torch.cuda.is_available() else 'cpu')\n",
    "    print(f\"Using device: {device}\")\n",
    "    \n",
    "    model_id = \"google/paligemma-3b-ft-nlvr2-448\"\n",
    "    \n",
    "    # Load model in 8-bit precision\n",
    "    print(\"Loading model in 8-bit...\")\n",
    "    model = PaliGemmaForConditionalGeneration.from_pretrained(\n",
    "        model_id,\n",
    "        load_in_8bit=True,\n",
    "        device_map=\"auto\"\n",
    "    )\n",
    "    \n",
    "    print(\"Loading processor...\")\n",
    "    processor = PaliGemmaProcessor.from_pretrained(model_id)\n",
    "    \n",
    "    # Load and resize images to 64x64\n",
    "    print(\"Loading and resizing images to 64x64...\")\n",
    "    stop_sign_image = Image.open(\n",
    "        requests.get(\"https://www.ilankelman.org/stopsigns/australia.jpg\", stream=True).raw\n",
    "    ).resize((64, 64))\n",
    "    \n",
    "    snow_image = Image.open(\n",
    "        requests.get(\n",
    "            \"https://huggingface.co/microsoft/kosmos-2-patch14-224/resolve/main/snowman.jpg\", stream=True\n",
    "        ).raw\n",
    "    ).resize((64, 64))\n",
    "    \n",
    "    # Explicitly add image tokens to prompt\n",
    "    prompt = \"<image><image> answer en Which of the two pictures shows a snowman, first or second?\"\n",
    "    print(f\"Using prompt: {prompt}\")\n",
    "    \n",
    "    # Process inputs\n",
    "    print(\"Processing inputs...\")\n",
    "    inputs = processor(images=[[snow_image, stop_sign_image]], text=prompt, return_tensors=\"pt\")\n",
    "    \n",
    "    # Move all inputs to the same device as the model\n",
    "    # First identify the model device\n",
    "    for param in model.parameters():\n",
    "        model_device = param.device\n",
    "        break\n",
    "    \n",
    "    print(f\"Model is on device: {model_device}\")\n",
    "    \n",
    "    # Move all inputs to the same device\n",
    "    inputs = {k: v.to(model_device) for k, v in inputs.items()}\n",
    "    \n",
    "    # Generate with more verbose settings\n",
    "    print(\"Generating output...\")\n",
    "    output = model.generate(\n",
    "        **inputs,\n",
    "        max_new_tokens=20,\n",
    "        num_beams=3,\n",
    "        do_sample=False,\n",
    "        pad_token_id=processor.tokenizer.pad_token_id\n",
    "    )\n",
    "    \n",
    "    # Decode and print output\n",
    "    decoded_output = processor.decode(output[0], skip_special_tokens=True)\n",
    "    print(\"Raw output:\", decoded_output)\n",
    "    \n",
    "    # Extract only the generated part\n",
    "    generated_text = decoded_output[len(processor.decode(inputs[\"input_ids\"][0], skip_special_tokens=True)):]\n",
    "    print(\"Generated text:\", generated_text)\n",
    "    \n",
    "except Exception as e:\n",
    "    print(f\"Error: {e}\")\n",
    "    print(traceback.format_exc())"
   ]
  },
  {
   "cell_type": "code",
   "execution_count": null,
   "metadata": {
    "vscode": {
     "languageId": "plaintext"
    }
   },
   "outputs": [],
   "source": []
  }
 ],
 "metadata": {
  "language_info": {
   "name": "python"
  }
 },
 "nbformat": 4,
 "nbformat_minor": 2
}
